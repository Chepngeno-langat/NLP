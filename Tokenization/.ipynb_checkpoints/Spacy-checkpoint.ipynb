{
 "cells": [
  {
   "cell_type": "markdown",
   "id": "43c434f4",
   "metadata": {},
   "source": [
    "### Sentence Tokenization in Spacy\n",
    "Tokenization is a process of splitting text into meaningful sehments"
   ]
  },
  {
   "cell_type": "code",
   "execution_count": null,
   "id": "1c700562",
   "metadata": {},
   "outputs": [],
   "source": [
    "import spacy"
   ]
  },
  {
   "cell_type": "code",
   "execution_count": null,
   "id": "a688b581",
   "metadata": {},
   "outputs": [],
   "source": [
    "nlp = spacy.load(\"en_core_web_sm\")"
   ]
  },
  {
   "cell_type": "code",
   "execution_count": null,
   "id": "63b73f4f",
   "metadata": {},
   "outputs": [],
   "source": [
    "doc = nlp(\"The strange case of Dr. Jekyll and Mr Hyde. The Book Thief\")\n",
    "\n",
    "for sentence in doc.sents:\n",
    "    print(sentence)"
   ]
  },
  {
   "cell_type": "code",
   "execution_count": null,
   "id": "8c19473b",
   "metadata": {},
   "outputs": [],
   "source": [
    "for sentence in doc.sents:\n",
    "    for word in sentence:\n",
    "        print(word)"
   ]
  },
  {
   "cell_type": "code",
   "execution_count": null,
   "id": "098d4f95",
   "metadata": {},
   "outputs": [],
   "source": [
    "nlp = spacy.blank('en')\n",
    " doc = nlp()"
   ]
  },
  {
   "cell_type": "markdown",
   "id": "80809232",
   "metadata": {},
   "source": [
    "### Sentence tokenization with NLTK"
   ]
  },
  {
   "cell_type": "code",
   "execution_count": 10,
   "id": "03ef12cd",
   "metadata": {},
   "outputs": [
    {
     "name": "stdout",
     "output_type": "stream",
     "text": [
      "showing info https://raw.githubusercontent.com/nltk/nltk_data/gh-pages/index.xml\n"
     ]
    },
    {
     "data": {
      "text/plain": [
       "True"
      ]
     },
     "execution_count": 10,
     "metadata": {},
     "output_type": "execute_result"
    }
   ],
   "source": [
    "import nltk\n",
    "nltk.download()"
   ]
  },
  {
   "cell_type": "code",
   "execution_count": 11,
   "id": "1b28384f",
   "metadata": {},
   "outputs": [
    {
     "data": {
      "text/plain": [
       "['The strange case of Dr. Jekyll and Mr Hyde.', 'The Book Thief']"
      ]
     },
     "execution_count": 11,
     "metadata": {},
     "output_type": "execute_result"
    }
   ],
   "source": [
    "from nltk.tokenize import sent_tokenize\n",
    "\n",
    "sent_tokenize(\"The strange case of Dr. Jekyll and Mr Hyde. The Book Thief\")"
   ]
  },
  {
   "cell_type": "code",
   "execution_count": 12,
   "id": "8f3ef481",
   "metadata": {},
   "outputs": [
    {
     "data": {
      "text/plain": [
       "['The',\n",
       " 'strange',\n",
       " 'case',\n",
       " 'of',\n",
       " 'Dr.',\n",
       " 'Jekyll',\n",
       " 'and',\n",
       " 'Mr',\n",
       " 'Hyde',\n",
       " '.',\n",
       " 'The',\n",
       " 'Book',\n",
       " 'Thief']"
      ]
     },
     "execution_count": 12,
     "metadata": {},
     "output_type": "execute_result"
    }
   ],
   "source": [
    "from nltk.tokenize import word_tokenize\n",
    "\n",
    "word_tokenize(\"The strange case of Dr. Jekyll and Mr Hyde. The Book Thief\")"
   ]
  },
  {
   "cell_type": "code",
   "execution_count": null,
   "id": "0603c264",
   "metadata": {},
   "outputs": [],
   "source": []
  }
 ],
 "metadata": {
  "kernelspec": {
   "display_name": "Python 3 (ipykernel)",
   "language": "python",
   "name": "python3"
  },
  "language_info": {
   "codemirror_mode": {
    "name": "ipython",
    "version": 3
   },
   "file_extension": ".py",
   "mimetype": "text/x-python",
   "name": "python",
   "nbconvert_exporter": "python",
   "pygments_lexer": "ipython3",
   "version": "3.10.9"
  }
 },
 "nbformat": 4,
 "nbformat_minor": 5
}
