{
 "cells": [
  {
   "cell_type": "code",
   "execution_count": 1,
   "id": "213e9efa-c9f2-4f89-9f3b-95239800cc12",
   "metadata": {},
   "outputs": [],
   "source": [
    "import spacy\n",
    "\n",
    "nlp = spacy.load('en_core_web_lg')"
   ]
  },
  {
   "cell_type": "code",
   "execution_count": 3,
   "id": "bfd25e79",
   "metadata": {},
   "outputs": [
    {
     "name": "stdout",
     "output_type": "stream",
     "text": [
      "dog Vector: True OOV: False\n",
      "cat Vector: True OOV: False\n",
      "banana Vector: True OOV: False\n",
      "afshdt Vector: False OOV: True\n"
     ]
    }
   ],
   "source": [
    "doc = nlp('dog cat banana afshdt')\n",
    "\n",
    "for token in doc:\n",
    "    print(token.text, 'Vector:', token.has_vector, 'OOV:', token.is_oov)"
   ]
  },
  {
   "cell_type": "code",
   "execution_count": 5,
   "id": "7667838d",
   "metadata": {},
   "outputs": [
    {
     "data": {
      "text/plain": [
       "(300,)"
      ]
     },
     "execution_count": 5,
     "metadata": {},
     "output_type": "execute_result"
    }
   ],
   "source": [
    "doc[0].vector.shape"
   ]
  },
  {
   "cell_type": "code",
   "execution_count": 6,
   "id": "a4deb4a3",
   "metadata": {},
   "outputs": [
    {
     "data": {
      "text/plain": [
       "(300,)"
      ]
     },
     "execution_count": 6,
     "metadata": {},
     "output_type": "execute_result"
    }
   ],
   "source": [
    "base_token = nlp('bread')\n",
    "base_token[0].vector.shape"
   ]
  },
  {
   "cell_type": "code",
   "execution_count": 7,
   "id": "07d6a8fd",
   "metadata": {},
   "outputs": [
    {
     "name": "stdout",
     "output_type": "stream",
     "text": [
      "sandwich <-> bread: 0.6341067010130894\n",
      "burger <-> bread: 0.47520687769584247\n",
      "car <-> bread: 0.06451532596945217\n",
      "tiger <-> bread: 0.04764611675903374\n",
      "human <-> bread: 0.2151154210812192\n",
      "wheat <-> bread: 0.615036141030184\n"
     ]
    }
   ],
   "source": [
    "doc = nlp('sandwich burger car tiger human wheat')\n",
    "\n",
    "for token in doc:\n",
    "    print(f'{token.text} <-> {base_token.text}: {token.similarity(base_token)}')"
   ]
  },
  {
   "cell_type": "code",
   "execution_count": 9,
   "id": "91b97009",
   "metadata": {},
   "outputs": [],
   "source": [
    "def print_similarity(base_word, word_to_compare):\n",
    "    base_token = nlp(base_word)\n",
    "    doc = nlp(word_to_compare)\n",
    "    \n",
    "    for token in doc:\n",
    "        print(f'{token.text} <-> {base_token.text}: {token.similarity(base_token)}')"
   ]
  },
  {
   "cell_type": "code",
   "execution_count": 13,
   "id": "2d9c9ed7",
   "metadata": {},
   "outputs": [
    {
     "name": "stdout",
     "output_type": "stream",
     "text": [
      "apple <-> apple: 0.9999999386604238\n",
      "samsung <-> apple: 0.269910180419637\n",
      "iphone <-> apple: 0.43879076362205294\n",
      "dog <-> apple: 0.22881001400023843\n",
      "tesla <-> apple: 0.10359036510548232\n",
      "kitchen <-> apple: 0.30608444419632286\n",
      "elon <-> apple: 0.4180053171213149\n"
     ]
    }
   ],
   "source": [
    "print_similarity(\"apple\", \"apple samsung iphone dog tesla kitchen elon\")"
   ]
  },
  {
   "cell_type": "code",
   "execution_count": 14,
   "id": "e7e887c3",
   "metadata": {},
   "outputs": [],
   "source": [
    "king = nlp.vocab['king'].vector\n",
    "queen = nlp.vocab['queen'].vector\n",
    "woman = nlp.vocab['woman'].vector\n",
    "man = nlp.vocab['man'].vector\n",
    "\n",
    "result = king - man + woman"
   ]
  },
  {
   "cell_type": "code",
   "execution_count": 16,
   "id": "22d9681c",
   "metadata": {},
   "outputs": [
    {
     "ename": "AttributeError",
     "evalue": "'numpy.ndarray' object has no attribute 'text'",
     "output_type": "error",
     "traceback": [
      "\u001b[0;31m---------------------------------------------------------------------------\u001b[0m",
      "\u001b[0;31mAttributeError\u001b[0m                            Traceback (most recent call last)",
      "Cell \u001b[0;32mIn[16], line 1\u001b[0m\n\u001b[0;32m----> 1\u001b[0m \u001b[43mresult\u001b[49m\u001b[38;5;241;43m.\u001b[39;49m\u001b[43mtext\u001b[49m\n",
      "\u001b[0;31mAttributeError\u001b[0m: 'numpy.ndarray' object has no attribute 'text'"
     ]
    }
   ],
   "source": [
    "frpm sklearn.me"
   ]
  },
  {
   "cell_type": "code",
   "execution_count": null,
   "id": "8778a535",
   "metadata": {},
   "outputs": [],
   "source": []
  }
 ],
 "metadata": {
  "kernelspec": {
   "display_name": "Python 3 (ipykernel)",
   "language": "python",
   "name": "python3"
  },
  "language_info": {
   "codemirror_mode": {
    "name": "ipython",
    "version": 3
   },
   "file_extension": ".py",
   "mimetype": "text/x-python",
   "name": "python",
   "nbconvert_exporter": "python",
   "pygments_lexer": "ipython3",
   "version": "3.10.13"
  }
 },
 "nbformat": 4,
 "nbformat_minor": 5
}
