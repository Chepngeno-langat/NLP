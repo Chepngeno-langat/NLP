{
 "cells": [
  {
   "cell_type": "code",
   "execution_count": 1,
   "id": "213e9efa-c9f2-4f89-9f3b-95239800cc12",
   "metadata": {},
   "outputs": [],
   "source": [
    "import spacy\n",
    "\n",
    "nlp = spacy.load('en_core_web_lg')"
   ]
  },
  {
   "cell_type": "code",
   "execution_count": 3,
   "id": "e75e35df",
   "metadata": {},
   "outputs": [
    {
     "name": "stdout",
     "output_type": "stream",
     "text": [
      "dog Vector: True OOV: False\n",
      "cat Vector: True OOV: False\n",
      "banana Vector: True OOV: False\n",
      "afshdt Vector: False OOV: True\n"
     ]
    }
   ],
   "source": [
    "doc = nlp('dog cat banana afshdt')\n",
    "\n",
    "for token in doc:\n",
    "    print(token.text, 'Vector:', token.has_vector, 'OOV:', token.is_oov)"
   ]
  },
  {
   "cell_type": "code",
   "execution_count": 5,
   "id": "ec1db2a4",
   "metadata": {},
   "outputs": [
    {
     "data": {
      "text/plain": [
       "(300,)"
      ]
     },
     "execution_count": 5,
     "metadata": {},
     "output_type": "execute_result"
    }
   ],
   "source": [
    "doc[0].vector.shape"
   ]
  },
  {
   "cell_type": "code",
   "execution_count": 6,
   "id": "27bf1851",
   "metadata": {},
   "outputs": [
    {
     "data": {
      "text/plain": [
       "(300,)"
      ]
     },
     "execution_count": 6,
     "metadata": {},
     "output_type": "execute_result"
    }
   ],
   "source": [
    "base_token = nlp('bread')\n",
    "base_token[0].vector.shape"
   ]
  },
  {
   "cell_type": "code",
   "execution_count": 7,
   "id": "351afab1",
   "metadata": {},
   "outputs": [
    {
     "name": "stdout",
     "output_type": "stream",
     "text": [
      "sandwich <-> bread: 0.6341067010130894\n",
      "burger <-> bread: 0.47520687769584247\n",
      "car <-> bread: 0.06451532596945217\n",
      "tiger <-> bread: 0.04764611675903374\n",
      "human <-> bread: 0.2151154210812192\n",
      "wheat <-> bread: 0.615036141030184\n"
     ]
    }
   ],
   "source": [
    "doc = nlp('sandwich burger car tiger human wheat')\n",
    "\n",
    "for token in doc:\n",
    "    print(f'{token.text} <-> {base_token.text}: {token.similarity(base_token)}')"
   ]
  },
  {
   "cell_type": "code",
   "execution_count": 9,
   "id": "b70c123d",
   "metadata": {},
   "outputs": [],
   "source": [
    "def print_similarity(base_word, word_to_compare):\n",
    "    base_token = nlp(base_word)\n",
    "    doc = nlp(word_to_compare)\n",
    "    \n",
    "    for token in doc:\n",
    "        print(f'{token.text} <-> {base_token.text}: {token.similarity(base_token)}')"
   ]
  },
  {
   "cell_type": "code",
   "execution_count": 13,
   "id": "e288cc27",
   "metadata": {},
   "outputs": [
    {
     "name": "stdout",
     "output_type": "stream",
     "text": [
      "apple <-> apple: 0.9999999386604238\n",
      "samsung <-> apple: 0.269910180419637\n",
      "iphone <-> apple: 0.43879076362205294\n",
      "dog <-> apple: 0.22881001400023843\n",
      "tesla <-> apple: 0.10359036510548232\n",
      "kitchen <-> apple: 0.30608444419632286\n",
      "elon <-> apple: 0.4180053171213149\n"
     ]
    }
   ],
   "source": [
    "print_similarity(\"apple\", \"apple samsung iphone dog tesla kitchen elon\")"
   ]
  },
  {
   "cell_type": "code",
   "execution_count": 14,
   "id": "133d7d99",
   "metadata": {},
   "outputs": [],
   "source": [
    "king = nlp.vocab['king'].vector\n",
    "queen = nlp.vocab['queen'].vector\n",
    "woman = nlp.vocab['woman'].vector\n",
    "man = nlp.vocab['man'].vector\n",
    "\n",
    "result = king - man + woman"
   ]
  },
  {
   "cell_type": "code",
   "execution_count": 17,
   "id": "1760fedf",
   "metadata": {},
   "outputs": [
    {
     "data": {
      "text/plain": [
       "array([[0.6178014]], dtype=float32)"
      ]
     },
     "execution_count": 17,
     "metadata": {},
     "output_type": "execute_result"
    }
   ],
   "source": [
    "from sklearn.metrics.pairwise import cosine_similarity\n",
    "\n",
    "cosine_similarity([result], [queen])"
   ]
  },
  {
   "cell_type": "code",
   "execution_count": null,
   "id": "c81954a8",
   "metadata": {},
   "outputs": [],
   "source": []
  }
 ],
 "metadata": {
  "kernelspec": {
   "display_name": "Python 3 (ipykernel)",
   "language": "python",
   "name": "python3"
  },
  "language_info": {
   "codemirror_mode": {
    "name": "ipython",
    "version": 3
   },
   "file_extension": ".py",
   "mimetype": "text/x-python",
   "name": "python",
   "nbconvert_exporter": "python",
   "pygments_lexer": "ipython3",
   "version": "3.10.13"
  }
 },
 "nbformat": 4,
 "nbformat_minor": 5
}
